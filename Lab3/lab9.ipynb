{
 "cells": [
  {
   "cell_type": "markdown",
   "metadata": {},
   "source": [
    "# LAB3\n",
    "\n",
    "In this lab we are tasked with exploring various local-search algorithm to solve a black-box problem in the minimum number of fitness calls."
   ]
  },
  {
   "cell_type": "code",
   "execution_count": 46,
   "metadata": {},
   "outputs": [],
   "source": [
    "from random import choices, sample, random, randint, choice\n",
    "\n",
    "import lab9_lib"
   ]
  },
  {
   "cell_type": "markdown",
   "metadata": {},
   "source": [
    "### Evolutionary Algorithm\n",
    "Let's start with an Evolutionary Algorithm, to avoid wasting calls we use an implementation of the $\\mu + \\lambda$ selection method, we also impose the coexistence of crossover and mutation (we defined them as mutually exclusive in the previous lab).\n",
    "We expect poor results overall given the randomic nature of the algorithm. "
   ]
  },
  {
   "cell_type": "code",
   "execution_count": 45,
   "metadata": {},
   "outputs": [
    {
     "data": {
      "image/png": "[encoded data removed]",
      "text/plain": [
       "<Figure size 640x480 with 1 Axes>"
      ]
     },
     "metadata": {},
     "output_type": "display_data"
    },
    {
     "name": "stdout",
     "output_type": "stream",
     "text": [
      "15000\n"
     ]
    }
   ],
   "source": [
    "import matplotlib.pyplot as plt\n",
    "\n",
    "fitness = lab9_lib.make_problem(10)\n",
    "NUM_LOCI = 1000\n",
    "\n",
    "def crossover(p1, p2):\n",
    "    o = []\n",
    "    for i in range(NUM_LOCI):\n",
    "        o.append(choice([p1[i], p2[i]]))\n",
    "    return o\n",
    "\n",
    "def mutate(m, min_mutation=0.01, max_mutation=0.02):  #randomly mutates between 1% and 2% of the genome\n",
    "    o=m.copy()\n",
    "    n_mutants = randint(int(NUM_LOCI*min_mutation), int(NUM_LOCI*max_mutation))\n",
    "    mutants = sample(range(NUM_LOCI), n_mutants)\n",
    "    for i in mutants:\n",
    "        o[i] = 1 - o[i]\n",
    "    return o\n",
    "\n",
    "def sortKey(arg, holder):  #stores the maximum inside the holder while evaluating fitness\n",
    "    f = fitness(arg)\n",
    "    if f > holder[0]:\n",
    "        holder[0]=f\n",
    "    return f\n",
    "\n",
    "def ea(pop_size, num_offsprings, mutation_rate=0.15, max_iter=100):\n",
    "    population = []\n",
    "    fitness_plot = []\n",
    "    for _ in range(pop_size):\n",
    "        c = choices([0, 1], k=1000)\n",
    "        population.append(c)\n",
    "    fitness_holder = [0] #use list as a mutable variable\n",
    "    i = 0\n",
    "    while fitness_holder[0]!=1 and i < max_iter:\n",
    "        i += 1\n",
    "        offsprings = []\n",
    "        for _ in range(num_offsprings):\n",
    "            p1, p2 = sample(population, 2)\n",
    "            o = crossover(p1, p2)\n",
    "            if random() < mutation_rate:\n",
    "                o = mutate(o)\n",
    "            offsprings.append(o)\n",
    "        population.extend(offsprings)\n",
    "        population.sort(key = lambda p : sortKey(p, fitness_holder))\n",
    "        population = population[:pop_size]\n",
    "        fitness_plot.append(fitness_holder[0])\n",
    "    return fitness_plot, population\n",
    "\n",
    "y_axis, pop = ea(100, 50)\n",
    "x_axis = range(len(y_axis))\n",
    "\n",
    "plt.plot(x_axis, y_axis)\n",
    "plt.show()\n",
    "\n",
    "print(fitness.calls)"
   ]
  }
 ],
 "metadata": {
  "kernelspec": {
   "display_name": "ci-fLJ3OwGs-py3.12",
   "language": "python",
   "name": "python3"
  },
  "language_info": {
   "codemirror_mode": {
    "name": "ipython",
    "version": 3
   },
   "file_extension": ".py",
   "mimetype": "text/x-python",
   "name": "python",
   "nbconvert_exporter": "python",
   "pygments_lexer": "ipython3",
   "version": "3.10.11"
  }
 },
 "nbformat": 4,
 "nbformat_minor": 2
}
