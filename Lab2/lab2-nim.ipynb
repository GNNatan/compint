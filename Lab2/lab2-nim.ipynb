{
 "cells": [
  {
   "cell_type": "markdown",
   "metadata": {
    "pycharm": {
     "name": "#%% md\n"
    }
   },
   "source": [
    "Copyright **`(c)`** 2022 Giovanni Squillero `<squillero@polito.it>`  \n",
    "[`https://github.com/squillero/computational-intelligence`](https://github.com/squillero/computational-intelligence)  \n",
    "Free for personal or classroom use; see [`LICENSE.md`](https://github.com/squillero/computational-intelligence/blob/master/LICENSE.md) for details.  \n"
   ]
  },
  {
   "cell_type": "markdown",
   "metadata": {
    "pycharm": {
     "name": "#%%\n"
    }
   },
   "source": [
    "# Lab 2: ES\n",
    "\n",
    "## Task\n",
    "\n",
    "Write agents able to play [*Nim*](https://en.wikipedia.org/wiki/Nim), with an arbitrary number of rows and an upper bound $k$ on the number of objects that can be removed in a turn (a.k.a., *subtraction game*).\n",
    "\n",
    "The goal of the game is to **avoid** taking the last object.\n",
    "\n",
    "* Task2.1: An agent using fixed rules based on *nim-sum* (i.e., an *expert system*)\n",
    "* Task2.2: An agent using evolved rules using ES\n",
    "\n",
    "## Instructions\n",
    "\n",
    "* Create the directory `lab2` inside your personal course repository for the course \n",
    "* Put a `README.md` and your solution (all the files, code and auxiliary data if needed)\n",
    "\n",
    "## Notes\n",
    "\n",
    "* Working in group is not only allowed, but recommended (see: [Ubuntu](https://en.wikipedia.org/wiki/Ubuntu_philosophy) and [Cooperative Learning](https://files.eric.ed.gov/fulltext/EJ1096789.pdf)). Collaborations must be explicitly declared in the `README.md`.\n",
    "* [Yanking](https://www.emacswiki.org/emacs/KillingAndYanking) from the internet is allowed, but sources must be explicitly declared in the `README.md`.\n",
    "\n"
   ]
  },
  {
   "cell_type": "code",
   "execution_count": 32,
   "metadata": {},
   "outputs": [],
   "source": [
    "import logging\n",
    "from pprint import pprint, pformat\n",
    "from collections import namedtuple\n",
    "import random\n",
    "from copy import deepcopy\n"
   ]
  },
  {
   "cell_type": "markdown",
   "metadata": {},
   "source": [
    "## The *Nim* and *Nimply* classes"
   ]
  },
  {
   "cell_type": "code",
   "execution_count": 33,
   "metadata": {},
   "outputs": [],
   "source": [
    "Nimply = namedtuple(\"Nimply\", \"row, num_objects\")\n"
   ]
  },
  {
   "cell_type": "code",
   "execution_count": 34,
   "metadata": {},
   "outputs": [],
   "source": [
    "class Nim:\n",
    "    def __init__(self, num_rows: int, k: int = None) -> None:\n",
    "        self._rows = [i * 2 + 1 for i in range(num_rows)]\n",
    "        self._k = k\n",
    "\n",
    "    def __bool__(self):\n",
    "        return sum(self._rows) > 0\n",
    "\n",
    "    def __str__(self):\n",
    "        return \"<\" + \" \".join(str(_) for _ in self._rows) + \">\"\n",
    "\n",
    "    @property\n",
    "    def rows(self) -> tuple:\n",
    "        return tuple(self._rows)\n",
    "\n",
    "    def nimming(self, ply: Nimply) -> None:\n",
    "        row, num_objects = ply\n",
    "        assert self._rows[row] >= num_objects\n",
    "        assert self._k is None or num_objects <= self._k\n",
    "        self._rows[row] -= num_objects\n"
   ]
  },
  {
   "cell_type": "markdown",
   "metadata": {},
   "source": [
    "## Sample (and silly) startegies "
   ]
  },
  {
   "cell_type": "code",
   "execution_count": 35,
   "metadata": {},
   "outputs": [],
   "source": [
    "def pure_random(state: Nim) -> Nimply:\n",
    "    \"\"\"A completely random move\"\"\"\n",
    "    row = random.choice([r for r, c in enumerate(state.rows) if c > 0])\n",
    "    num_objects = random.randint(1, state.rows[row])\n",
    "    return Nimply(row, num_objects)\n"
   ]
  },
  {
   "cell_type": "code",
   "execution_count": 36,
   "metadata": {},
   "outputs": [],
   "source": [
    "def gabriele(state: Nim) -> Nimply:\n",
    "    \"\"\"Pick always the maximum possible number of the lowest row\"\"\"\n",
    "    possible_moves = [(r, o) for r, c in enumerate(state.rows) for o in range(1, c + 1)]\n",
    "    return Nimply(*max(possible_moves, key=lambda m: (-m[0], m[1])))\n"
   ]
  },
  {
   "cell_type": "code",
   "execution_count": 37,
   "metadata": {},
   "outputs": [],
   "source": [
    "def adaptive(state: Nim) -> Nimply:\n",
    "    \"\"\"A strategy that can adapt its parameters\"\"\"\n",
    "    genome = {\"love_small\": 0.5}\n"
   ]
  },
  {
   "cell_type": "code",
   "execution_count": 38,
   "metadata": {},
   "outputs": [],
   "source": [
    "import numpy as np\n",
    "\n",
    "\n",
    "def nim_sum(state: Nim) -> int:\n",
    "    tmp = np.array([tuple(int(x) for x in f\"{c:032b}\") for c in state.rows])\n",
    "    xor = tmp.sum(axis=0) % 2\n",
    "    return int(\"\".join(str(_) for _ in xor), base=2)\n",
    "\n",
    "\n",
    "def analyze(raw: Nim) -> dict:\n",
    "    cooked = dict()\n",
    "    cooked[\"possible_moves\"] = dict()\n",
    "    for ply in (Nimply(r, o) for r, c in enumerate(raw.rows) for o in range(1, c + 1)):\n",
    "        tmp = deepcopy(raw)\n",
    "        tmp.nimming(ply)\n",
    "        cooked[\"possible_moves\"][ply] = nim_sum(tmp)\n",
    "    return cooked\n",
    "\n",
    "\n",
    "def optimal(state: Nim) -> Nimply:\n",
    "    analysis = analyze(state)\n",
    "    logging.debug(f\"analysis:\\n{pformat(analysis)}\")\n",
    "    spicy_moves = [ply for ply, ns in analysis[\"possible_moves\"].items() if ns != 0]\n",
    "    if not spicy_moves:\n",
    "        spicy_moves = list(analysis[\"possible_moves\"].keys())\n",
    "    ply = random.choice(spicy_moves)\n",
    "    return ply\n"
   ]
  },
  {
   "cell_type": "markdown",
   "metadata": {},
   "source": [
    "## Oversimplified match"
   ]
  },
  {
   "cell_type": "code",
   "execution_count": 39,
   "metadata": {},
   "outputs": [
    {
     "name": "stderr",
     "output_type": "stream",
     "text": [
      "INFO:root:init : <1 3 5 7 9>\n",
      "INFO:root:ply: player 0 plays Nimply(row=3, num_objects=3)\n",
      "INFO:root:status: <1 3 5 4 9>\n",
      "INFO:root:ply: player 1 plays Nimply(row=2, num_objects=2)\n",
      "INFO:root:status: <1 3 3 4 9>\n",
      "INFO:root:ply: player 0 plays Nimply(row=0, num_objects=1)\n",
      "INFO:root:status: <0 3 3 4 9>\n",
      "INFO:root:ply: player 1 plays Nimply(row=4, num_objects=7)\n",
      "INFO:root:status: <0 3 3 4 2>\n",
      "INFO:root:ply: player 0 plays Nimply(row=2, num_objects=2)\n",
      "INFO:root:status: <0 3 1 4 2>\n",
      "INFO:root:ply: player 1 plays Nimply(row=2, num_objects=1)\n",
      "INFO:root:status: <0 3 0 4 2>\n",
      "INFO:root:ply: player 0 plays Nimply(row=3, num_objects=1)\n",
      "INFO:root:status: <0 3 0 3 2>\n",
      "INFO:root:ply: player 1 plays Nimply(row=3, num_objects=2)\n",
      "INFO:root:status: <0 3 0 1 2>\n",
      "INFO:root:ply: player 0 plays Nimply(row=3, num_objects=1)\n",
      "INFO:root:status: <0 3 0 0 2>\n",
      "INFO:root:ply: player 1 plays Nimply(row=4, num_objects=2)\n",
      "INFO:root:status: <0 3 0 0 0>\n",
      "INFO:root:ply: player 0 plays Nimply(row=1, num_objects=2)\n",
      "INFO:root:status: <0 1 0 0 0>\n",
      "INFO:root:ply: player 1 plays Nimply(row=1, num_objects=1)\n",
      "INFO:root:status: <0 0 0 0 0>\n",
      "INFO:root:status: Player 0 won!\n"
     ]
    }
   ],
   "source": [
    "logging.getLogger().setLevel(logging.INFO)\n",
    "\n",
    "strategy = (optimal, pure_random)\n",
    "\n",
    "nim = Nim(5)\n",
    "logging.info(f\"init : {nim}\")\n",
    "player = 0\n",
    "while nim:\n",
    "    ply = strategy[player](nim)\n",
    "    logging.info(f\"ply: player {player} plays {ply}\")\n",
    "    nim.nimming(ply)\n",
    "    logging.info(f\"status: {nim}\")\n",
    "    player = 1 - player\n",
    "logging.info(f\"status: Player {player} won!\")\n"
   ]
  },
  {
   "cell_type": "markdown",
   "metadata": {},
   "source": [
    "## Genetic Algorithm\n",
    "\n",
    "We will now attempt to find a good strategy using a genetic algorithm, we must first find a good fitness function over which we will evaluate the various individuals of each generation.<br>\n",
    "We define the fitness as the win-rate in a series of matches against a pure random opponent."
   ]
  },
  {
   "cell_type": "code",
   "execution_count": 61,
   "metadata": {},
   "outputs": [],
   "source": [
    "class Individual:\n",
    "    def __init__(self, genome):\n",
    "        self.genome = genome\n",
    "        self.fitness = None\n",
    "    \n",
    "    def assign(self, fitness):\n",
    "        self.fitness = fitness\n",
    "\n",
    "    def play(self, nim):\n",
    "        chosen_moves = []\n",
    "        probability = self.genome[0]\n",
    "        ignoreZero = self.genome[1]\n",
    "        cooked = dict()\n",
    "        cooked[\"possible_moves\"] = dict()\n",
    "        for ply in (Nimply(r, o) for r, c in enumerate(nim.rows) for o in range(1, c + 1)):\n",
    "            tmp = deepcopy(nim)\n",
    "            tmp.nimming(ply)\n",
    "            cooked[\"possible_moves\"][ply] = nim_sum(tmp)\n",
    "        cooked[\"chosen_moves\"] = cooked[\"possible_moves\"].copy()\n",
    "        if ignoreZero:\n",
    "            cooked[\"chosen_moves\"] = {ply:ns for ply, ns in cooked[\"chosen_moves\"].items() if ns != 0}\n",
    "            if not cooked[\"chosen_moves\"]:    #if all moves have nimsum 0 restore the previous dict\n",
    "                cooked[\"chosen_moves\"] = cooked[\"possible_moves\"].copy()\n",
    "        if random.random() <= probability:\n",
    "            min_value = min(cooked[\"chosen_moves\"].values())\n",
    "            chosen_moves = [ply for ply, ns in cooked[\"chosen_moves\"].items() if ns==min_value]\n",
    "        if not chosen_moves:\n",
    "            chosen_moves = list(cooked[\"chosen_moves\"].keys())\n",
    "        return random.choice(chosen_moves)\n",
    "\n",
    "def duel(player1, player2=pure_random): #returns the index of a winner in a match\n",
    "    nim = Nim(5)\n",
    "    players =[player1, player2]\n",
    "    current = random.choice([0, 1]) #random starting player\n",
    "    while nim:\n",
    "        ply = players[current](nim)\n",
    "        nim.nimming(ply)\n",
    "        current = 1 - current\n",
    "    return current\n",
    "\n",
    "\n",
    "def fit(individual:Individual, matches=10):\n",
    "    wr = 0\n",
    "    for _ in range(matches):\n",
    "        wr+=1-duel(individual.play)\n",
    "    individual.assign(wr/matches)\n",
    "        \n"
   ]
  },
  {
   "cell_type": "markdown",
   "metadata": {},
   "source": [
    "## Choosing the genes\n",
    "Now that we defined a fitness function we have to find the genes that encode the behavour of the individuals. <br>\n",
    "<ul>\n",
    "<li>Gene 1: A float that represents the probability of choosing the lowest possible nimsum</li>\n",
    "<li>Gene 2: A bool that indicates whether or not the individual should ignore the moves with a nimsum of zero when possible</li>\n",
    "</ul>"
   ]
  },
  {
   "cell_type": "code",
   "execution_count": 70,
   "metadata": {},
   "outputs": [],
   "source": [
    "GENERATIONS = 100\n",
    "POPULATION_SIZE = 30\n",
    "OFFSPRINGS_SIZE = 20\n",
    "MUTATION_RATE = 0.15\n",
    "\n",
    "def select(population) -> Individual:\n",
    "    pool = [choice(population) for _ in range(2)]\n",
    "    return pool[duel(population[0], population[1])]\n",
    "\n",
    "def clamp(number, lower_bound, upper_bound):\n",
    "    if number < lower_bound:\n",
    "        number = lower_bound\n",
    "    if number > upper_bound:\n",
    "        number = upper_bound\n",
    "    return number\n",
    "\n",
    "def crossover(parent1:Individual, parent2:Individual) -> Individual:\n",
    "    genome = []\n",
    "    dominant = random.choice([\"p1\",\"p2\",\"avg\",\"avg\"])\n",
    "    if dominant == \"p1\":\n",
    "        genome.append(parent1.genome[0])\n",
    "    elif dominant == \"p2\":\n",
    "        genome.append(parent2.genome[0])\n",
    "    else:\n",
    "        genome.append((parent1.genome[0]+parent2.genome[0])/2)\n",
    "    genome.append(random.choice([parent1.genome[1], parent2.genome[1]]))\n",
    "    return Individual(genome)\n",
    "\n",
    "def mutate(mutant:Individual, sigma=0.2) -> Individual:\n",
    "    gene = random.choice([0, 1])\n",
    "    if gene == 0:\n",
    "        mutation = random.uniform(-sigma, sigma)\n",
    "        genome=[clamp(mutant.genome[0] + mutation, 0, 1), mutant.genome[1]]\n",
    "    else:\n",
    "        genome=[mutant.genome[0], not mutant.genome[1]]\n",
    "    return Individual(genome)\n",
    "\n",
    "#starting population\n",
    "population = []\n",
    "for _ in range(POPULATION_SIZE):\n",
    "    gene1 = random.gauss(0.5, 0.2)\n",
    "    gene2 = random.choice([True, False])\n",
    "    population.append(Individual(genome=[gene1, gene2]))\n",
    "\n",
    "for gen in range(GENERATIONS):\n",
    "    offsprings = []\n",
    "    for off in range(OFFSPRINGS_SIZE):\n",
    "        if random.random() < MUTATION_RATE:\n",
    "            o = mutate(select(population))\n",
    "        else:\n",
    "            parent1 = select(population)\n",
    "            parent2 = select(population)\n",
    "            o = crossover(parent1, parent2)\n",
    "        offsprings.append(o)\n",
    "    \n",
    "    for i in offsprings\n",
    "\n",
    "\n",
    "\n"
   ]
  }
 ],
 "metadata": {
  "kernelspec": {
   "display_name": "Python 3.10.7 ('ci22-dPIXJ0_o-py3.10')",
   "language": "python",
   "name": "python3"
  },
  "language_info": {
   "codemirror_mode": {
    "name": "ipython",
    "version": 3
   },
   "file_extension": ".py",
   "mimetype": "text/x-python",
   "name": "python",
   "nbconvert_exporter": "python",
   "pygments_lexer": "ipython3",
   "version": "3.10.11"
  },
  "vscode": {
   "interpreter": {
    "hash": "10197e8e2f2aa67e2c349105091c77f4cd384fce4877865f002d9ec653f96bc0"
   }
  }
 },
 "nbformat": 4,
 "nbformat_minor": 2
}
