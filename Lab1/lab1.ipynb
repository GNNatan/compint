{
 "cells": [
  {
   "cell_type": "markdown",
   "metadata": {},
   "source": [
    "### Set Covering Problem\n",
    "\n",
    "In the following notebook we try different approaches on how to solve the Set Cover Problem"
   ]
  },
  {
   "cell_type": "code",
   "execution_count": 2,
   "metadata": {},
   "outputs": [],
   "source": [
    "from random import random\n",
    "from functools import reduce\n",
    "from collections import namedtuple\n",
    "from queue import PriorityQueue\n",
    "\n",
    "import numpy as np\n",
    "import matplotlib.pyplot as plt"
   ]
  },
  {
   "cell_type": "markdown",
   "metadata": {},
   "source": [
    "After generating some random subsets we check if the problem is feasible or not."
   ]
  },
  {
   "cell_type": "code",
   "execution_count": 3,
   "metadata": {},
   "outputs": [],
   "source": [
    "PROBLEM_SIZE = 20\n",
    "NUM_SETS = 64\n",
    "SETS = tuple(\n",
    "    np.array([random() < 0.25 for _ in range(PROBLEM_SIZE)])\n",
    "    for _ in range(NUM_SETS)\n",
    ")\n",
    "\n",
    "State = namedtuple('State', ['taken', 'not_taken'])\n",
    "\n",
    "def goal_check(state):\n",
    "    return np.all(reduce(\n",
    "        np.logical_or,\n",
    "        [SETS[i] for i in state.taken],\n",
    "        np.array([False for _ in range(PROBLEM_SIZE)]),\n",
    "    ))\n",
    "\n",
    "\n",
    "assert goal_check(\n",
    "    State(set(range(NUM_SETS)), set())\n",
    "), \"Problem not solvable\"\n",
    "\n"
   ]
  },
  {
   "cell_type": "markdown",
   "metadata": {},
   "source": [
    "We create a wrapper to explore the various algorithms"
   ]
  },
  {
   "cell_type": "code",
   "execution_count": 4,
   "metadata": {},
   "outputs": [],
   "source": [
    "def search(priority):\n",
    "    frontier = PriorityQueue()\n",
    "    state = State(set(), set(range(NUM_SETS)))\n",
    "    frontier.put((priority(state), state))\n",
    "\n",
    "    counter = 0\n",
    "    _, current_state = frontier.get()\n",
    "    while not goal_check(current_state):\n",
    "        counter += 1\n",
    "        for action in current_state[1]:\n",
    "            new_state = State(\n",
    "                current_state.taken ^ {action},\n",
    "                current_state.not_taken ^ {action},\n",
    "            )\n",
    "            frontier.put((priority(new_state), new_state))\n",
    "        _, current_state = frontier.get()\n",
    "\n",
    "    print(\n",
    "        f\"Solved in {counter:,} steps ({len(current_state.taken)} tiles)\"\n",
    "    )\n",
    "\n",
    "    return current_state.taken"
   ]
  },
  {
   "cell_type": "markdown",
   "metadata": {},
   "source": [
    "We can now define different priorities to impose which algorithm to follow:\n",
    "<ul>\n",
    "  <li><b>Breadth first:</b> The algorithm should prioritize more shallow nodes, exploring each one before going in depth</li> \n",
    "  <li><b>Greedy best first:</b> The algorithm should prioritize the \"gain\", that is, the number of uncovered tiles in each new action</li> \n",
    "  <li><b>A*:</b> The priority should be influenced by two parameters:\n",
    "  <ul>\n",
    "      <li><b>g(x):</b> Should be equal to the cost of each edge (unitary in this case)</li>\n",
    "      <li><b>h(x):</b> It's an heuristic that represents how close we are to our goal, in this case it's represented by the number of uncovered tiles</li>\n",
    "    </ul></li> \n",
    "</ul>"
   ]
  },
  {
   "cell_type": "code",
   "execution_count": 5,
   "metadata": {},
   "outputs": [],
   "source": [
    "def breadth_first(state):\n",
    "    return len(state.taken)\n",
    "\n",
    "def greedy_best_first(state):\n",
    "    return PROBLEM_SIZE - sum(\n",
    "        reduce(\n",
    "            np.logical_or,\n",
    "            [SETS[i] for i in state.taken],\n",
    "            np.array([False for _ in range(PROBLEM_SIZE)]),\n",
    "        ))\n",
    "\n",
    "def a_star(state, general=breadth_first, heuristic=greedy_best_first):\n",
    "    return general(state) + heuristic(state)"
   ]
  },
  {
   "cell_type": "markdown",
   "metadata": {},
   "source": [
    "I also added a function to visualize the solution found by each algorithm, the black boxes represent taken tiles (ones) and the white ones represent non-taken tiles (zeroes), intuitively there should be at least one black box for each column."
   ]
  },
  {
   "cell_type": "code",
   "execution_count": 6,
   "metadata": {},
   "outputs": [],
   "source": [
    "def graph(solution, number=1, title=None):\n",
    "    map = None\n",
    "    for i in solution:\n",
    "        if map is not None:\n",
    "            map = np.vstack((map, SETS[i]))\n",
    "        else:\n",
    "            map = SETS[i]\n",
    "\n",
    "    plt.figure(number)\n",
    "    plt.imshow(map, cmap='binary')\n",
    "    ax = plt.gca()\n",
    "    ax.set_yticks(np.arange(len(solution)), solution)\n",
    "    ax.get_xaxis().set_visible(False)\n",
    "    if title is not None:\n",
    "        plt.title(title)\n",
    "    plt.show"
   ]
  },
  {
   "cell_type": "markdown",
   "metadata": {},
   "source": [
    "We can now run the different algorithms and compare the solutions:"
   ]
  },
  {
   "cell_type": "code",
   "execution_count": 7,
   "metadata": {},
   "outputs": [
    {
     "name": "stdout",
     "output_type": "stream",
     "text": [
      "Solved in 7,930 steps (3 tiles)\n",
      "Solved in 3 steps (3 tiles)\n",
      "Solved in 3 steps (3 tiles)\n"
     ]
    },
    {
     "data": {
      "image/png": "[encoded data removed]",
      "text/plain": [
       "<Figure size 640x480 with 1 Axes>"
      ]
     },
     "metadata": {},
     "output_type": "display_data"
    },
    {
     "data": {
      "image/png": "[encoded data removed]",
      "text/plain": [
       "<Figure size 640x480 with 1 Axes>"
      ]
     },
     "metadata": {},
     "output_type": "display_data"
    },
    {
     "data": {
      "image/png": "[encoded data removed]",
      "text/plain": [
       "<Figure size 640x480 with 1 Axes>"
      ]
     },
     "metadata": {},
     "output_type": "display_data"
    }
   ],
   "source": [
    "bf = search(breadth_first)\n",
    "gbf = search(greedy_best_first)\n",
    "a = search(a_star)\n",
    "\n",
    "graph(bf, 1, 'Breadth First Approach')\n",
    "graph(gbf, 2, 'Greedy Best First Approach')\n",
    "graph(a, 3, 'A* Approach')"
   ]
  },
  {
   "cell_type": "markdown",
   "metadata": {},
   "source": [
    "## Observations\n",
    "With an unitary cost for each edge traversed the result of the greedy best first and A* algorithms reach similar solutions, this is likely due to the fact that the heuristic cost is out of scale in respect to the unitary cost of the arcs, we can try to rescale it into the range [0, 1]"
   ]
  },
  {
   "cell_type": "code",
   "execution_count": 8,
   "metadata": {},
   "outputs": [],
   "source": [
    "def rescaled(state):\n",
    "    return greedy_best_first(state)/15\n",
    "\n",
    "def quadratic_rescaled(state):\n",
    "    return greedy_best_first(state)**2/225"
   ]
  },
  {
   "cell_type": "markdown",
   "metadata": {},
   "source": [
    "Let's try the newly defined heuristics and compare them with the old solutions, we expect the quadratic heuristic to penalize the distance more than the linear one, but perhaps the solution space we defined is too small to see the difference."
   ]
  },
  {
   "cell_type": "code",
   "execution_count": 12,
   "metadata": {},
   "outputs": [
    {
     "name": "stdout",
     "output_type": "stream",
     "text": [
      "Solved in 3,981 steps (3 tiles)\n",
      "Solved in 3,977 steps (3 tiles)\n"
     ]
    },
    {
     "data": {
      "image/png": "[encoded data removed]",
      "text/plain": [
       "<Figure size 640x480 with 1 Axes>"
      ]
     },
     "metadata": {},
     "output_type": "display_data"
    },
    {
     "data": {
      "image/png": "[encoded data removed]",
      "text/plain": [
       "<Figure size 640x480 with 1 Axes>"
      ]
     },
     "metadata": {},
     "output_type": "display_data"
    },
    {
     "data": {
      "image/png": "[encoded data removed]",
      "text/plain": [
       "<Figure size 640x480 with 1 Axes>"
      ]
     },
     "metadata": {},
     "output_type": "display_data"
    },
    {
     "data": {
      "image/png": "[encoded data removed]",
      "text/plain": [
       "<Figure size 640x480 with 1 Axes>"
      ]
     },
     "metadata": {},
     "output_type": "display_data"
    }
   ],
   "source": [
    "ra = search(lambda s : a_star(s, heuristic=rescaled))\n",
    "qa = search(lambda s : a_star(s, heuristic=quadratic_rescaled))\n",
    "\n",
    "graph(bf, 1, 'Breadth First Approach')\n",
    "graph(gbf, 2, 'Greedy Best First Approach')\n",
    "graph(ra, 3, 'A* Approach (rescaled)')\n",
    "graph(qa, 4, 'A* Approach (quadratic rescaled)')"
   ]
  },
  {
   "cell_type": "markdown",
   "metadata": {},
   "source": [
    "## References\n",
    "[Giovanni Squillero for the original code](https://github.com/squillero/computational-intelligence)<br>"
   ]
  }
 ],
 "metadata": {
  "kernelspec": {
   "display_name": "code",
   "language": "python",
   "name": "python3"
  },
  "language_info": {
   "codemirror_mode": {
    "name": "ipython",
    "version": 3
   },
   "file_extension": ".py",
   "mimetype": "text/x-python",
   "name": "python",
   "nbconvert_exporter": "python",
   "pygments_lexer": "ipython3",
   "version": "3.10.11"
  }
 },
 "nbformat": 4,
 "nbformat_minor": 2
}
