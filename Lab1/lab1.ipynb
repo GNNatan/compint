{
 "cells": [
  {
   "cell_type": "markdown",
   "metadata": {},
   "source": [
    "### Set Covering Problem\n",
    "\n",
    "In the following notebook we try different approaches on how to solve the Set Cover Problem"
   ]
  },
  {
   "cell_type": "code",
   "execution_count": 6,
   "metadata": {},
   "outputs": [],
   "source": [
    "from random import random\n",
    "from functools import reduce\n",
    "from collections import namedtuple\n",
    "from queue import PriorityQueue\n",
    "\n",
    "import numpy as np\n",
    "import matplotlib.pyplot as plt"
   ]
  },
  {
   "cell_type": "markdown",
   "metadata": {},
   "source": [
    "After generating some random subsets we check if the problem is feasible or not."
   ]
  },
  {
   "cell_type": "code",
   "execution_count": 7,
   "metadata": {},
   "outputs": [],
   "source": [
    "PROBLEM_SIZE = 20\n",
    "NUM_SETS = 64\n",
    "SETS = tuple(\n",
    "    np.array([random() < 0.5 for _ in range(PROBLEM_SIZE)])\n",
    "    for _ in range(NUM_SETS)\n",
    ")\n",
    "\n",
    "State = namedtuple('State', ['taken', 'not_taken'])\n",
    "\n",
    "def goal_check(state):\n",
    "    return np.all(reduce(\n",
    "        np.logical_or,\n",
    "        [SETS[i] for i in state.taken],\n",
    "        np.array([False for _ in range(PROBLEM_SIZE)]),\n",
    "    ))\n",
    "\n",
    "\n",
    "assert goal_check(\n",
    "    State(set(range(NUM_SETS)), set())\n",
    "), \"Problem not solvable\"\n",
    "\n"
   ]
  },
  {
   "cell_type": "markdown",
   "metadata": {},
   "source": [
    "We create a wrapper to explore the various algorithms"
   ]
  },
  {
   "cell_type": "code",
   "execution_count": 8,
   "metadata": {},
   "outputs": [],
   "source": [
    "def search(priority):\n",
    "    frontier = PriorityQueue()\n",
    "    state = State(set(), set(range(NUM_SETS)))\n",
    "    frontier.put((priority(state), state))\n",
    "\n",
    "    counter = 0\n",
    "    _, current_state = frontier.get()\n",
    "    while not goal_check(current_state):\n",
    "        counter += 1\n",
    "        for action in current_state[1]:\n",
    "            new_state = State(\n",
    "                current_state.taken ^ {action},\n",
    "                current_state.not_taken ^ {action},\n",
    "            )\n",
    "            frontier.put((priority(new_state), new_state))\n",
    "        _, current_state = frontier.get()\n",
    "\n",
    "    print(\n",
    "        f\"Solved in {counter:,} steps ({len(current_state.taken)} tiles)\"\n",
    "    )\n",
    "\n",
    "    return current_state.taken"
   ]
  },
  {
   "cell_type": "markdown",
   "metadata": {},
   "source": [
    "We can now define different priorities to impose which algorithm to follow:\n",
    "<ul>\n",
    "  <li><b>Breadth first:</b> The algorithm should prioritize more shallow nodes, exploring each one before going in depth</li> \n",
    "  <li><b>Greedy best first:</b> The algorithm should prioritize the \"gain\", that is, the number of uncovered tiles in each new action</li> \n",
    "  <li><b>A*:</b> The priority should be influenced by two parameters:\n",
    "  <ul>\n",
    "      <li><b>g(x):</b> Should be equal to the cost of each edge (unitary in this case)</li>\n",
    "      <li><b>h(x):</b> It's an heuristic that represents how close we are to our goal, in this case it's represented by the number of uncovered tiles</li>\n",
    "    </ul></li> \n",
    "</ul>"
   ]
  },
  {
   "cell_type": "code",
   "execution_count": 9,
   "metadata": {},
   "outputs": [],
   "source": [
    "def breadth_first(state):\n",
    "    return len(state.taken)\n",
    "\n",
    "def greedy_best_first(state):\n",
    "    return PROBLEM_SIZE - sum(\n",
    "        reduce(\n",
    "            np.logical_or,\n",
    "            [SETS[i] for i in state.taken],\n",
    "            np.array([False for _ in range(PROBLEM_SIZE)]),\n",
    "        ))\n",
    "\n",
    "def a_star(state):\n",
    "    return greedy_best_first(state) + breadth_first(state)"
   ]
  },
  {
   "cell_type": "markdown",
   "metadata": {},
   "source": [
    "I also added a function to visualize the solution found by each algorithm, the black boxes represent taken tiles (ones) and the white ones represent non-taken tiles (zeroes), intuitively there should be at least one black box for each column."
   ]
  },
  {
   "cell_type": "code",
   "execution_count": 10,
   "metadata": {},
   "outputs": [],
   "source": [
    "def graph(solution, title=None):\n",
    "    map = None\n",
    "    for i in solution:\n",
    "        if map is not None:\n",
    "            map = np.vstack((map, SETS[i]))\n",
    "        else:\n",
    "            map = SETS[i]\n",
    "\n",
    "    plt.imshow(map, cmap='binary')\n",
    "    ax = plt.gca()\n",
    "    ax.set_yticks(np.arange(len(solution)), solution)\n",
    "    ax.get_xaxis().set_visible(False)\n",
    "    if title is not None:\n",
    "        plt.title(title)\n",
    "    plt.show"
   ]
  },
  {
   "cell_type": "markdown",
   "metadata": {},
   "source": [
    "We can now run the different algorithms and compare the solutions:"
   ]
  },
  {
   "cell_type": "code",
   "execution_count": 11,
   "metadata": {},
   "outputs": [
    {
     "ename": "KeyboardInterrupt",
     "evalue": "",
     "output_type": "error",
     "traceback": [
      "\u001b[1;31m---------------------------------------------------------------------------\u001b[0m",
      "\u001b[1;31mKeyboardInterrupt\u001b[0m                         Traceback (most recent call last)",
      "\u001b[1;32mc:\\Users\\gnnat\\Desktop\\Poli\\Computational Intelligence\\compint\\compint\\Lab1\\lab1.ipynb Cell 12\u001b[0m line \u001b[0;36m1\n\u001b[1;32m----> <a href='vscode-notebook-cell:/c%3A/Users/gnnat/Desktop/Poli/Computational%20Intelligence/compint/compint/Lab1/lab1.ipynb#X22sZmlsZQ%3D%3D?line=0'>1</a>\u001b[0m bf \u001b[39m=\u001b[39m search(breadth_first)\n\u001b[0;32m      <a href='vscode-notebook-cell:/c%3A/Users/gnnat/Desktop/Poli/Computational%20Intelligence/compint/compint/Lab1/lab1.ipynb#X22sZmlsZQ%3D%3D?line=1'>2</a>\u001b[0m gbf \u001b[39m=\u001b[39m search(greedy_best_first)\n\u001b[0;32m      <a href='vscode-notebook-cell:/c%3A/Users/gnnat/Desktop/Poli/Computational%20Intelligence/compint/compint/Lab1/lab1.ipynb#X22sZmlsZQ%3D%3D?line=2'>3</a>\u001b[0m a \u001b[39m=\u001b[39m search(a_star)\n",
      "\u001b[1;32mc:\\Users\\gnnat\\Desktop\\Poli\\Computational Intelligence\\compint\\compint\\Lab1\\lab1.ipynb Cell 12\u001b[0m line \u001b[0;36m1\n\u001b[0;32m     <a href='vscode-notebook-cell:/c%3A/Users/gnnat/Desktop/Poli/Computational%20Intelligence/compint/compint/Lab1/lab1.ipynb#X22sZmlsZQ%3D%3D?line=9'>10</a>\u001b[0m     \u001b[39mfor\u001b[39;00m action \u001b[39min\u001b[39;00m current_state[\u001b[39m1\u001b[39m]:\n\u001b[0;32m     <a href='vscode-notebook-cell:/c%3A/Users/gnnat/Desktop/Poli/Computational%20Intelligence/compint/compint/Lab1/lab1.ipynb#X22sZmlsZQ%3D%3D?line=10'>11</a>\u001b[0m         new_state \u001b[39m=\u001b[39m State(\n\u001b[0;32m     <a href='vscode-notebook-cell:/c%3A/Users/gnnat/Desktop/Poli/Computational%20Intelligence/compint/compint/Lab1/lab1.ipynb#X22sZmlsZQ%3D%3D?line=11'>12</a>\u001b[0m             current_state\u001b[39m.\u001b[39mtaken \u001b[39m^\u001b[39m {action},\n\u001b[0;32m     <a href='vscode-notebook-cell:/c%3A/Users/gnnat/Desktop/Poli/Computational%20Intelligence/compint/compint/Lab1/lab1.ipynb#X22sZmlsZQ%3D%3D?line=12'>13</a>\u001b[0m             current_state\u001b[39m.\u001b[39mnot_taken \u001b[39m^\u001b[39m {action},\n\u001b[0;32m     <a href='vscode-notebook-cell:/c%3A/Users/gnnat/Desktop/Poli/Computational%20Intelligence/compint/compint/Lab1/lab1.ipynb#X22sZmlsZQ%3D%3D?line=13'>14</a>\u001b[0m         )\n\u001b[1;32m---> <a href='vscode-notebook-cell:/c%3A/Users/gnnat/Desktop/Poli/Computational%20Intelligence/compint/compint/Lab1/lab1.ipynb#X22sZmlsZQ%3D%3D?line=14'>15</a>\u001b[0m         frontier\u001b[39m.\u001b[39;49mput((priority(new_state), new_state))\n\u001b[0;32m     <a href='vscode-notebook-cell:/c%3A/Users/gnnat/Desktop/Poli/Computational%20Intelligence/compint/compint/Lab1/lab1.ipynb#X22sZmlsZQ%3D%3D?line=15'>16</a>\u001b[0m     _, current_state \u001b[39m=\u001b[39m frontier\u001b[39m.\u001b[39mget()\n\u001b[0;32m     <a href='vscode-notebook-cell:/c%3A/Users/gnnat/Desktop/Poli/Computational%20Intelligence/compint/compint/Lab1/lab1.ipynb#X22sZmlsZQ%3D%3D?line=17'>18</a>\u001b[0m \u001b[39mprint\u001b[39m(\n\u001b[0;32m     <a href='vscode-notebook-cell:/c%3A/Users/gnnat/Desktop/Poli/Computational%20Intelligence/compint/compint/Lab1/lab1.ipynb#X22sZmlsZQ%3D%3D?line=18'>19</a>\u001b[0m     \u001b[39mf\u001b[39m\u001b[39m\"\u001b[39m\u001b[39mSolved in \u001b[39m\u001b[39m{\u001b[39;00mcounter\u001b[39m:\u001b[39;00m\u001b[39m,\u001b[39m\u001b[39m}\u001b[39;00m\u001b[39m steps (\u001b[39m\u001b[39m{\u001b[39;00m\u001b[39mlen\u001b[39m(current_state\u001b[39m.\u001b[39mtaken)\u001b[39m}\u001b[39;00m\u001b[39m tiles)\u001b[39m\u001b[39m\"\u001b[39m\n\u001b[0;32m     <a href='vscode-notebook-cell:/c%3A/Users/gnnat/Desktop/Poli/Computational%20Intelligence/compint/compint/Lab1/lab1.ipynb#X22sZmlsZQ%3D%3D?line=19'>20</a>\u001b[0m )\n",
      "File \u001b[1;32mC:\\Program Files\\WindowsApps\\PythonSoftwareFoundation.Python.3.10_3.10.3056.0_x64__qbz5n2kfra8p0\\lib\\queue.py:133\u001b[0m, in \u001b[0;36mQueue.put\u001b[1;34m(self, item, block, timeout)\u001b[0m\n\u001b[0;32m    122\u001b[0m \u001b[39mdef\u001b[39;00m \u001b[39mput\u001b[39m(\u001b[39mself\u001b[39m, item, block\u001b[39m=\u001b[39m\u001b[39mTrue\u001b[39;00m, timeout\u001b[39m=\u001b[39m\u001b[39mNone\u001b[39;00m):\n\u001b[0;32m    123\u001b[0m \u001b[39m    \u001b[39m\u001b[39m'''Put an item into the queue.\u001b[39;00m\n\u001b[0;32m    124\u001b[0m \n\u001b[0;32m    125\u001b[0m \u001b[39m    If optional args 'block' is true and 'timeout' is None (the default),\u001b[39;00m\n\u001b[1;32m   (...)\u001b[0m\n\u001b[0;32m    131\u001b[0m \u001b[39m    is ignored in that case).\u001b[39;00m\n\u001b[0;32m    132\u001b[0m \u001b[39m    '''\u001b[39;00m\n\u001b[1;32m--> 133\u001b[0m     \u001b[39mwith\u001b[39;00m \u001b[39mself\u001b[39m\u001b[39m.\u001b[39mnot_full:\n\u001b[0;32m    134\u001b[0m         \u001b[39mif\u001b[39;00m \u001b[39mself\u001b[39m\u001b[39m.\u001b[39mmaxsize \u001b[39m>\u001b[39m \u001b[39m0\u001b[39m:\n\u001b[0;32m    135\u001b[0m             \u001b[39mif\u001b[39;00m \u001b[39mnot\u001b[39;00m block:\n",
      "File \u001b[1;32mC:\\Program Files\\WindowsApps\\PythonSoftwareFoundation.Python.3.10_3.10.3056.0_x64__qbz5n2kfra8p0\\lib\\threading.py:265\u001b[0m, in \u001b[0;36mCondition.__enter__\u001b[1;34m(self)\u001b[0m\n\u001b[0;32m    264\u001b[0m \u001b[39mdef\u001b[39;00m \u001b[39m__enter__\u001b[39m(\u001b[39mself\u001b[39m):\n\u001b[1;32m--> 265\u001b[0m     \u001b[39mreturn\u001b[39;00m \u001b[39mself\u001b[39;49m\u001b[39m.\u001b[39;49m_lock\u001b[39m.\u001b[39;49m\u001b[39m__enter__\u001b[39;49m()\n",
      "\u001b[1;31mKeyboardInterrupt\u001b[0m: "
     ]
    }
   ],
   "source": [
    "bf = search(breadth_first)\n",
    "gbf = search(greedy_best_first)\n",
    "a = search(a_star)\n",
    "\n",
    "graph(bf, 'Breadth First Approach')\n",
    "graph(gbf, 'Greedy Best First Approach')\n",
    "graph(a, 'A* Approach')"
   ]
  }
 ],
 "metadata": {
  "kernelspec": {
   "display_name": "code",
   "language": "python",
   "name": "python3"
  },
  "language_info": {
   "codemirror_mode": {
    "name": "ipython",
    "version": 3
   },
   "file_extension": ".py",
   "mimetype": "text/x-python",
   "name": "python",
   "nbconvert_exporter": "python",
   "pygments_lexer": "ipython3",
   "version": "3.10.11"
  }
 },
 "nbformat": 4,
 "nbformat_minor": 2
}
