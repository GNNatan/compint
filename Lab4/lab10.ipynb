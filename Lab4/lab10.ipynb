{
 "cells": [
  {
   "cell_type": "markdown",
   "metadata": {},
   "source": [
    "# LAB10\n",
    "\n",
    "The goal of this lab is to use Reinforcement Learning to create an agent capable of playing tic tac toe."
   ]
  },
  {
   "cell_type": "code",
   "execution_count": 46,
   "metadata": {},
   "outputs": [],
   "source": [
    "from itertools import permutations\n",
    "from random import choice"
   ]
  },
  {
   "cell_type": "markdown",
   "metadata": {},
   "source": [
    "## Defining the game\n",
    "We save the positions of the Xs and Os in separate sets and we map the board as a magic-square:\n",
    "\n",
    "| 2     | 9     | 4     |\n",
    "|-------|-------|-------|\n",
    "| **7** | **5** | **3** |\n",
    "| **6** | **1** | **8** |\n",
    "\n",
    "To check if any player has won we check if exists a permutation of 3 cells with their symbol whose sum is 15."
   ]
  },
  {
   "cell_type": "code",
   "execution_count": 45,
   "metadata": {},
   "outputs": [],
   "source": [
    "class TicTacToe:\n",
    "    def __init__(self):\n",
    "        self.x_pos = set()\n",
    "        self.o_pos = set()\n",
    "        self.moves = set(range(1, 10)) #available moves\n",
    "        self.next = 'x'\n",
    "\n",
    "    def play(self, pos): #Returns True if the move was accepted and played, False otherwise\n",
    "        if pos>9 or pos<1 or pos not in self.moves: #square non-existent or already taken\n",
    "            return False\n",
    "        if self.next == 'x':\n",
    "            self.x_pos.add(pos)\n",
    "            self.moves.remove(pos)\n",
    "            self.next = 'o'\n",
    "        else:\n",
    "            self.o_pos.add(pos)\n",
    "            self.moves.remove(pos)\n",
    "            self.next = 'x'\n",
    "        return True\n",
    "    \n",
    "    def check_victory(self):\n",
    "        for t in permutations(self.x_pos, 3):\n",
    "            if sum(t) == 15:\n",
    "                return 'x wins'\n",
    "        for t in permutations(self.o_pos, 3):\n",
    "            if sum(t) == 15:\n",
    "                return 'o wins'\n",
    "        if not self.moves:\n",
    "            return 'the game was a tie'\n",
    "        return None\n",
    "    \n",
    "\n",
    "\n",
    "            \n"
   ]
  },
  {
   "cell_type": "markdown",
   "metadata": {},
   "source": [
    "### Creating the Agents\n",
    "We start by creating a random agent, that plays a random move from the available ones."
   ]
  },
  {
   "cell_type": "code",
   "execution_count": 85,
   "metadata": {},
   "outputs": [
    {
     "name": "stdout",
     "output_type": "stream",
     "text": [
      "o wins\n"
     ]
    }
   ],
   "source": [
    "def random_agent(game):\n",
    "    return choice(tuple(game.moves))\n",
    "\n",
    "game = TicTacToe()\n",
    "while not game.check_victory():\n",
    "    game.play(random_agent(game))\n",
    "print(game.check_victory())"
   ]
  }
 ],
 "metadata": {
  "kernelspec": {
   "display_name": "ci-fLJ3OwGs-py3.12",
   "language": "python",
   "name": "python3"
  },
  "language_info": {
   "codemirror_mode": {
    "name": "ipython",
    "version": 3
   },
   "file_extension": ".py",
   "mimetype": "text/x-python",
   "name": "python",
   "nbconvert_exporter": "python",
   "pygments_lexer": "ipython3",
   "version": "3.10.11"
  }
 },
 "nbformat": 4,
 "nbformat_minor": 2
}
